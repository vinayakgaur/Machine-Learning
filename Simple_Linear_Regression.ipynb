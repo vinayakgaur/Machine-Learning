{
 "cells": [
  {
   "cell_type": "code",
   "execution_count": 10,
   "metadata": {},
   "outputs": [
    {
     "name": "stdout",
     "output_type": "stream",
     "text": [
      "Simple Linear Regression\n",
      "Y =  0.37224669603524063  +  1.9405286343612338  * X\n",
      "Final Simple Linear Regression\n",
      "Y =  0.37224669603524063  +  1.9405286343612338  * X +/- 0.07757349431842966\n"
     ]
    },
    {
     "data": {
      "image/png": "[encoded data removed]",
      "text/plain": [
       "<Figure size 432x288 with 1 Axes>"
      ]
     },
     "metadata": {
      "needs_background": "light"
     },
     "output_type": "display_data"
    },
    {
     "name": "stdout",
     "output_type": "stream",
     "text": [
      "[0 1 2]\n",
      "[ 8 12 16]\n"
     ]
    },
    {
     "data": {
      "image/png": "[encoded data removed]",
      "text/plain": [
       "<Figure size 432x288 with 1 Axes>"
      ]
     },
     "metadata": {
      "needs_background": "light"
     },
     "output_type": "display_data"
    }
   ],
   "source": [
    "# To create a model \n",
    "\n",
    "import numpy as np\n",
    "from math import sqrt \n",
    "import matplotlib.pyplot as plt\n",
    "%matplotlib inline\n",
    "\n",
    "def simple_linear_regression(x_train, y_train):\n",
    "    x = x_train\n",
    "    y = y_train\n",
    "    N = np.size(x)     #gives us the elements in x\n",
    "    x_m = np.mean(x) \n",
    "    y_m = np.mean(y)\n",
    "    B1 = (np.sum(x*y) - N*x_m*y_m) / (np.sum(x**2)- N*x_m**2)\n",
    "    B0 = y_m - B1*x_m\n",
    "    return (B0, B1)\n",
    "\n",
    "# to validate the model   [actual => y_test, predicted => y_pred]\n",
    "\n",
    "def root_mse(y_test, y_pred):\n",
    "    sum_square_error = 0 \n",
    "    for i in range(len(y_test)):\n",
    "        error = y_test[i]-y_pred[i]\n",
    "        sum_square_error += error**2\n",
    "        mean_sum_square_error = sum_square_error/float(len(y_test))\n",
    "        rmse = sqrt(mean_sum_square_error)\n",
    "        return rmse\n",
    "    \n",
    "# find the prediction \n",
    "def prediction(B0, B1, x_test):\n",
    "    y_pred = B0+B1 *x_test\n",
    "    return y_pred\n",
    "\n",
    "def data_visual (x_train, y_train, x_test,y_test, y_pred):\n",
    "    plt.scatter(x_train, y_train)\n",
    "    plt.xlabel (\"x_train\")\n",
    "    plt.ylabel (\"y_train\")\n",
    "    plt.show()\n",
    "    len1 = np.arange(len(x_test))\n",
    "    print (len1)\n",
    "    print (y_test)\n",
    "    plt.plot(len1, y_test - y_pred)\n",
    "    plt.xlabel(\"numbers\")\n",
    "    plt.ylabel(\"error term\")\n",
    "    plt.show()\n",
    "def main():\n",
    "    x_train =np.array([0,1,2,3,5,7,9]) \n",
    "    y_train =np.array([1,2,4,6,10,14,18])\n",
    "    x_test  = np.array([4,6,8])\n",
    "    y_test  = np.array([8,12,16])\n",
    "    B       =  simple_linear_regression(x_train , y_train)  # Y = B0 + B1 * X\n",
    "    B0 = B[0]\n",
    "    B1 = B[1]\n",
    "    print(\"Simple Linear Regression\")\n",
    "    print (\"Y = \",B0 ,\" + \",B1,\" * X\")\n",
    "    y_pred  =  prediction(B0,B1 , x_test)\n",
    "    rmse    =  root_mse(y_test , y_pred)\n",
    "\n",
    "    print  (\"Final Simple Linear Regression\")\n",
    "    print (\"Y = \",B0 ,\" + \",B1,\" * X +/-\", rmse)\n",
    "    data_visual(x_train ,y_train,x_test,y_test,y_pred)\n",
    "if __name__ ==\"__main__\":\n",
    "    main()"
   ]
  },
  {
   "cell_type": "code",
   "execution_count": null,
   "metadata": {},
   "outputs": [],
   "source": []
  }
 ],
 "metadata": {
  "kernelspec": {
   "display_name": "Python 3",
   "language": "python",
   "name": "python3"
  },
  "language_info": {
   "codemirror_mode": {
    "name": "ipython",
    "version": 3
   },
   "file_extension": ".py",
   "mimetype": "text/x-python",
   "name": "python",
   "nbconvert_exporter": "python",
   "pygments_lexer": "ipython3",
   "version": "3.7.4"
  }
 },
 "nbformat": 4,
 "nbformat_minor": 4
}
